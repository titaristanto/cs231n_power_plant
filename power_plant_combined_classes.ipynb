{
 "cells": [
  {
   "cell_type": "code",
   "execution_count": 1,
   "metadata": {
    "colab": {
     "autoexec": {
      "startup": false,
      "wait_interval": 0
     },
     "base_uri": "https://localhost:8080/",
     "height": 35
    },
    "colab_type": "code",
    "executionInfo": {
     "elapsed": 2727,
     "status": "ok",
     "timestamp": 1528312926242,
     "user": {
      "displayName": "Tita Ristanto",
      "photoUrl": "//lh6.googleusercontent.com/-WzCH6Rmr_tA/AAAAAAAAAAI/AAAAAAAABTo/i_JXU-eKApc/s50-c-k-no/photo.jpg",
      "userId": "104366007315489817645"
     },
     "user_tz": 420
    },
    "id": "1KUFeMPKZViz",
    "outputId": "5bab6603-8fdd-4f9c-b9c4-0884f88f75a2"
   },
   "outputs": [
    {
     "name": "stderr",
     "output_type": "stream",
     "text": [
      "/home/shared/anaconda3/lib/python3.6/site-packages/h5py/__init__.py:36: FutureWarning: Conversion of the second argument of issubdtype from `float` to `np.floating` is deprecated. In future, it will be treated as `np.float64 == np.dtype(float).type`.\n",
      "  from ._conv import register_converters as _register_converters\n",
      "Using TensorFlow backend.\n"
     ]
    }
   ],
   "source": [
    "from PIL import Image\n",
    "import numpy as np\n",
    "import os, glob, itertools\n",
    "import matplotlib.pyplot as plt\n",
    "from sklearn.metrics import confusion_matrix\n",
    "from sklearn.metrics import accuracy_score\n",
    "from sklearn.model_selection import train_test_split\n",
    "from sklearn.preprocessing import LabelBinarizer\n",
    "import keras\n",
    "from keras.models import Model\n",
    "from keras.models import Sequential, model_from_json\n",
    "from keras.layers import Input, Dense, Dropout, Activation, Flatten\n",
    "from keras.layers import Conv2D, MaxPooling2D, GlobalAveragePooling2D, Flatten\n",
    "from keras.utils import multi_gpu_model\n",
    "from keras.applications.resnet50 import ResNet50\n",
    "from keras import optimizers\n",
    "#from keras.applications.inception_resnet_v2 import InceptionResNetV2\n",
    "#from keras.applications.densenet import DenseNet201\n",
    "#from keras.applications.inception_v3 import InceptionV3\n",
    "import csv\n",
    "import cv2 as cv"
   ]
  },
  {
   "cell_type": "code",
   "execution_count": 2,
   "metadata": {
    "colab": {
     "autoexec": {
      "startup": false,
      "wait_interval": 0
     },
     "base_uri": "https://localhost:8080/",
     "height": 35
    },
    "colab_type": "code",
    "executionInfo": {
     "elapsed": 844,
     "status": "ok",
     "timestamp": 1528312922255,
     "user": {
      "displayName": "Tita Ristanto",
      "photoUrl": "//lh6.googleusercontent.com/-WzCH6Rmr_tA/AAAAAAAAAAI/AAAAAAAABTo/i_JXU-eKApc/s50-c-k-no/photo.jpg",
      "userId": "104366007315489817645"
     },
     "user_tz": 420
    },
    "id": "_MNFtWHOZVi8",
    "outputId": "98c5261a-df32-4917-c380-188acd47b92f"
   },
   "outputs": [
    {
     "name": "stdout",
     "output_type": "stream",
     "text": [
      "Using device:  /device:GPU:0\n"
     ]
    }
   ],
   "source": [
    "# Set up some global variables\n",
    "USE_GPU = True\n",
    "\n",
    "if USE_GPU:\n",
    "    device = '/device:GPU:0'\n",
    "else:\n",
    "    device = '/cpu:0'\n",
    "\n",
    "# Constant to control how often we print when training models\n",
    "print_every = 100\n",
    "\n",
    "print('Using device: ', device)"
   ]
  },
  {
   "cell_type": "code",
   "execution_count": 3,
   "metadata": {
    "colab": {
     "autoexec": {
      "startup": false,
      "wait_interval": 0
     }
    },
    "colab_type": "code",
    "collapsed": true,
    "id": "8wzxUoJpZVjC"
   },
   "outputs": [],
   "source": [
    "%matplotlib inline\n",
    "plt.rcParams['figure.figsize'] = (10.0, 8.0) # set default size of plots\n",
    "plt.rcParams['image.interpolation'] = 'nearest'\n",
    "plt.rcParams['image.cmap'] = 'gray'\n",
    "\n",
    "# for auto-reloading external modules\n",
    "# see http://stackoverflow.com/questions/1907993/autoreload-of-modules-in-ipython\n",
    "%load_ext autoreload\n",
    "%autoreload 2"
   ]
  },
  {
   "cell_type": "code",
   "execution_count": 4,
   "metadata": {
    "colab": {
     "autoexec": {
      "startup": false,
      "wait_interval": 0
     }
    },
    "colab_type": "code",
    "collapsed": true,
    "id": "C_zUNPu2ZVjG"
   },
   "outputs": [],
   "source": [
    "def parse_filenames(folder_name):\n",
    "    files = glob.glob(os.path.join(\"./\", folder_name, '*.tif'))\n",
    "    return files\n",
    "\n",
    "def get_data(filenames):\n",
    "    # Read from CSV file, find abbreviated label (alabel) to full label (flabel) mapping\n",
    "    csv_rows = []\n",
    "    with open(\"PLANTS.csv\", 'rtU') as csvfile:\n",
    "        csvreader = csv.reader(csvfile, delimiter=',', dialect=csv.excel_tab)\n",
    "        for row in csvreader:\n",
    "            csv_rows.append(row)\n",
    "\n",
    "    for col_idx, col_title in enumerate(csv_rows[1]):\n",
    "        if \"PLPRMFL\" in col_title:\n",
    "            abbr_idx = col_idx\n",
    "        if \"PLFUELCT\" in col_title:\n",
    "            full_idx = col_idx\n",
    "        if \"Imagery Status\" in col_title:\n",
    "            imagery_idx = col_idx\n",
    "\n",
    "    dict_alabel_flabel = {}\n",
    "    dict_flabel_id = {}\n",
    "    dict_alabel_id = {}\n",
    "    dict_id_flabel = {}\n",
    "    flabel_id_count = 0\n",
    "\n",
    "    # Hard-code FFBM to id 0\n",
    "    ffbm = ['OIL', 'GAS', 'COAL', 'OTHF', 'BIOMASS']\n",
    "    for flabel in ffbm:\n",
    "        dict_flabel_id[flabel] = 0\n",
    "    dict_id_flabel[0] = 'FFBM'\n",
    "    flabel_id_count += 1\n",
    "    \n",
    "    for row in csv_rows:\n",
    "        if \"YES\" in row[imagery_idx]:\n",
    "            if row[full_idx] not in dict_flabel_id:\n",
    "                dict_flabel_id[row[full_idx]] = flabel_id_count\n",
    "                dict_id_flabel[flabel_id_count] = row[full_idx]\n",
    "                flabel_id_count += 1\n",
    "            if row[abbr_idx] not in dict_alabel_flabel:\n",
    "                dict_alabel_flabel[row[abbr_idx]] = row[full_idx]\n",
    "                dict_alabel_id[row[abbr_idx]] = dict_flabel_id[row[full_idx]]\n",
    "    print(dict_alabel_flabel)\n",
    "    print(dict_flabel_id)\n",
    "\n",
    "    m = len(filenames)\n",
    "    X = np.zeros((m, 300, 300, 3))\n",
    "    Y = np.zeros((m))\n",
    "    dict_id_count = {}\n",
    "    dict_flabel_count = {}\n",
    "\n",
    "    for i in range(m):\n",
    "        img = Image.open(filenames[i])\n",
    "        X[i] = np.array(img)[:300,:300,:3]\n",
    "\n",
    "        alabel = filenames[i].split('_')[-1][:-4]\n",
    "        if (alabel not in dict_alabel_flabel):\n",
    "            print(\"WARNING: unseen a-label found in filename.\")\n",
    "        Y[i] = int(dict_alabel_id[alabel])\n",
    "        if (Y[i] not in dict_id_count):\n",
    "            dict_id_count[Y[i]] = 0\n",
    "        dict_id_count[Y[i]] += 1\n",
    "        dict_flabel_count[dict_id_flabel[Y[i]]] = dict_id_count[Y[i]]\n",
    "\n",
    "    print(X.shape)\n",
    "    print(dict_id_count)\n",
    "    print(dict_flabel_count)\n",
    "    print(sorted(((v,k) for k,v in dict_flabel_count.items()), reverse=True))\n",
    "    print(np.histogram(Y))\n",
    "    return X, Y, dict_id_flabel\n",
    "\n",
    "def resize_image(X, size):\n",
    "    X_new = np.zeros((X.shape[0], *size, 3))\n",
    "    for i in range(X.shape[0]):\n",
    "        X_new[i, :, :, :] = cv.resize(X[i, :, :, :], \n",
    "                                      size, interpolation=cv.INTER_LINEAR)\n",
    "    return X_new\n",
    "\n",
    "def plot_history(history):\n",
    "    '''\n",
    "    Plots train and val loss and accuracy given history. From: history = model.fit(...)\n",
    "    '''\n",
    "    loss_list = [s for s in history.history.keys() if 'loss' in s and 'val' not in s]\n",
    "    val_loss_list = [s for s in history.history.keys() if 'loss' in s and 'val' in s]\n",
    "    acc_list = [s for s in history.history.keys() if 'acc' in s and 'val' not in s]\n",
    "    val_acc_list = [s for s in history.history.keys() if 'acc' in s and 'val' in s]\n",
    "\n",
    "    if len(loss_list) == 0:\n",
    "        print('Loss is missing in history')\n",
    "        return\n",
    "\n",
    "    ## As loss always exists\n",
    "    epochs = range(1,len(history.history[loss_list[0]]) + 1)\n",
    "\n",
    "    ## Loss\n",
    "    plt.figure(1)\n",
    "    for l in loss_list:\n",
    "        plt.plot(epochs, history.history[l], 'b', label='Training loss (' + str(str(format(history.history[l][-1],'.5f'))+')'))\n",
    "    for l in val_loss_list:\n",
    "        plt.plot(epochs, history.history[l], 'g', label='Validation loss (' + str(str(format(history.history[l][-1],'.5f'))+')'))\n",
    "\n",
    "    plt.title('Loss')\n",
    "    plt.xlabel('Epochs')\n",
    "    plt.ylabel('Loss')\n",
    "    plt.legend()\n",
    "\n",
    "    ## Accuracy\n",
    "    plt.figure(2)\n",
    "    for l in acc_list:\n",
    "        plt.plot(epochs, history.history[l], 'b', label='Training accuracy (' + str(format(history.history[l][-1],'.5f'))+')')\n",
    "    for l in val_acc_list:\n",
    "        plt.plot(epochs, history.history[l], 'g', label='Validation accuracy (' + str(format(history.history[l][-1],'.5f'))+')')\n",
    "\n",
    "    plt.title('Accuracy')\n",
    "    plt.xlabel('Epochs')\n",
    "    plt.ylabel('Accuracy')\n",
    "    plt.legend()\n",
    "    plt.show()\n",
    "\n",
    "def plot_confusion_matrix(cm, classes,\n",
    "                          normalize=False,\n",
    "                          title='Confusion matrix',\n",
    "                          cmap=plt.cm.Blues):\n",
    "    '''\n",
    "    :param cm: a confusion matrix output from sklearn func, which takes on actual label and prediction\n",
    "    :param classes: a list of all the labels\n",
    "    :param normalize: if True, performs row normalization\n",
    "    :param title: title of the plot\n",
    "    :param cmap: color choices\n",
    "    '''\n",
    "    if normalize:\n",
    "        cm = cm.astype('float') / cm.sum(axis=1)[:, np.newaxis]\n",
    "        print(\"Normalized confusion matrix\")\n",
    "    else:\n",
    "        print('Confusion matrix')\n",
    "\n",
    "    print(cm)\n",
    "\n",
    "    plt.figure()\n",
    "    plt.imshow(cm, interpolation='nearest', cmap=cmap)\n",
    "    plt.title(title)\n",
    "    plt.colorbar()\n",
    "    tick_marks = np.arange(len(classes))\n",
    "    plt.xticks(tick_marks, classes, rotation=45)\n",
    "    plt.yticks(tick_marks, classes)\n",
    "\n",
    "    fmt = '.2f' if normalize else 'd'\n",
    "    thresh = cm.max() / 2.\n",
    "    for i, j in itertools.product(range(cm.shape[0]), range(cm.shape[1])):\n",
    "        plt.text(j, i, format(cm[i, j], fmt),\n",
    "                 horizontalalignment=\"center\",\n",
    "                 color=\"white\" if cm[i, j] > thresh else \"black\")\n",
    "\n",
    "    plt.tight_layout()\n",
    "    plt.ylabel('True label')\n",
    "    plt.xlabel('Predicted label')\n",
    "    plt.savefig('Power Plant Classification Confusion Matrix.png')"
   ]
  },
  {
   "cell_type": "code",
   "execution_count": 5,
   "metadata": {
    "colab": {
     "autoexec": {
      "startup": false,
      "wait_interval": 0
     },
     "base_uri": "https://localhost:8080/",
     "height": 35
    },
    "colab_type": "code",
    "executionInfo": {
     "elapsed": 1014,
     "status": "ok",
     "timestamp": 1528313082917,
     "user": {
      "displayName": "Tita Ristanto",
      "photoUrl": "//lh6.googleusercontent.com/-WzCH6Rmr_tA/AAAAAAAAAAI/AAAAAAAABTo/i_JXU-eKApc/s50-c-k-no/photo.jpg",
      "userId": "104366007315489817645"
     },
     "user_tz": 420
    },
    "id": "27hdjDoyf4Db",
    "outputId": "265519f2-07a1-4d5f-a3b1-704940ffac0f"
   },
   "outputs": [
    {
     "data": {
      "text/plain": [
       "'/home/Jerry/cs231n_power_plant'"
      ]
     },
     "execution_count": 5,
     "metadata": {},
     "output_type": "execute_result"
    }
   ],
   "source": [
    "#os.chdir('drive/Colab Notebooks')\n",
    "os.getcwd()"
   ]
  },
  {
   "cell_type": "code",
   "execution_count": 6,
   "metadata": {
    "colab": {
     "autoexec": {
      "startup": false,
      "wait_interval": 0
     },
     "base_uri": "https://localhost:8080/",
     "height": 567
    },
    "colab_type": "code",
    "executionInfo": {
     "elapsed": 2169757,
     "status": "error",
     "timestamp": 1528315258946,
     "user": {
      "displayName": "Tita Ristanto",
      "photoUrl": "//lh6.googleusercontent.com/-WzCH6Rmr_tA/AAAAAAAAAAI/AAAAAAAABTo/i_JXU-eKApc/s50-c-k-no/photo.jpg",
      "userId": "104366007315489817645"
     },
     "user_tz": 420
    },
    "id": "lkf35qaaZVjJ",
    "outputId": "1c8807f6-3a05-4da4-97bb-d93cb29c9ae0"
   },
   "outputs": [
    {
     "name": "stderr",
     "output_type": "stream",
     "text": [
      "/home/shared/anaconda3/lib/python3.6/site-packages/ipykernel_launcher.py:8: DeprecationWarning: 'U' mode is deprecated\n",
      "  \n"
     ]
    },
    {
     "name": "stdout",
     "output_type": "stream",
     "text": [
      "{'COG': 'COAL', 'BLQ': 'BIOMASS', 'DFO': 'OIL', 'BIT': 'COAL', 'NG': 'GAS', 'WH': 'OTHF', 'WAT': 'HYDRO', 'NUC': 'NUCLEAR', 'WDS': 'BIOMASS', 'SUB': 'COAL', 'OBS': 'BIOMASS', 'LFG': 'BIOMASS', 'SUN': 'SOLAR', '': '', 'WND': 'WIND', 'OTH': 'OTHF', 'GEO': 'GEOTHERMAL', 'OG': 'OFSL', 'PUR': 'OTHF', 'OBG': 'BIOMASS', 'MSW': 'BIOMASS', 'PRG': 'OTHF', 'MWH': 'OTHF', 'AB': 'BIOMASS', 'KER': 'OIL', 'RFO': 'OIL', 'PC': 'OIL', 'BFG': 'OFSL', 'SGC': 'COAL', 'LIG': 'COAL', 'WC': 'COAL', 'SLW': 'BIOMASS', 'WDL': 'BIOMASS'}\n",
      "{'OIL': 0, 'GAS': 0, 'COAL': 0, 'OTHF': 0, 'BIOMASS': 0, 'HYDRO': 1, 'NUCLEAR': 2, 'SOLAR': 3, '': 4, 'WIND': 5, 'GEOTHERMAL': 6, 'OFSL': 7}\n",
      "(4454, 300, 300, 3)\n",
      "{1.0: 688, 5.0: 457, 0.0: 2323, 4.0: 19, 3.0: 850, 2.0: 46, 6.0: 59, 7.0: 12}\n",
      "{'HYDRO': 688, 'WIND': 457, 'FFBM': 2323, '': 19, 'SOLAR': 850, 'NUCLEAR': 46, 'GEOTHERMAL': 59, 'OFSL': 12}\n",
      "[(2323, 'FFBM'), (850, 'SOLAR'), (688, 'HYDRO'), (457, 'WIND'), (59, 'GEOTHERMAL'), (46, 'NUCLEAR'), (19, ''), (12, 'OFSL')]\n",
      "(array([2323,  688,   46,    0,  850,   19,    0,  457,   59,   12]), array([0. , 0.7, 1.4, 2.1, 2.8, 3.5, 4.2, 4.9, 5.6, 6.3, 7. ]))\n"
     ]
    }
   ],
   "source": [
    "np.random.seed(7)\n",
    "\n",
    "# Load images\n",
    "X_raw, Y_raw, dict_id_flabel = get_data(parse_filenames(folder_name='uspp_naip_resized'))\n",
    "\n",
    "# Resize images\n",
    "#X = resize_image(X_raw, size=(300, 300))\n",
    "X = X_raw\n",
    "\n",
    "# Convert labels into one-hot-encoding format\n",
    "encoder = LabelBinarizer()\n",
    "Y = encoder.fit_transform(Y_raw)\n",
    "\n",
    "# Split into train, dev, and test set\n",
    "x_traindev, x_test, y_traindev, y_test = train_test_split(X, Y,\n",
    "                                                          test_size=0.1,\n",
    "                                                          shuffle=True)\n",
    "x_train, x_dev, y_train, y_dev = train_test_split(x_traindev, y_traindev,\n",
    "                                                          test_size=0.1,\n",
    "                                                          shuffle=True)"
   ]
  },
  {
   "cell_type": "markdown",
   "metadata": {
    "colab_type": "text",
    "id": "WaiV5cgMZVjR"
   },
   "source": [
    "## ResNet-50 Using Pretrained Imagenet Weights (All weights retrained)"
   ]
  },
  {
   "cell_type": "code",
   "execution_count": 7,
   "metadata": {
    "colab": {
     "autoexec": {
      "startup": false,
      "wait_interval": 0
     }
    },
    "colab_type": "code",
    "collapsed": true,
    "id": "euP6F8JdZVjS"
   },
   "outputs": [],
   "source": [
    "def run_resnet50(x_train, y_train, x_dev, y_dev, epochs=50, batch_size=200):\n",
    "    # Create base model:ResNet50\n",
    "    M, H, W, C = x_train.shape\n",
    "    base_model = ResNet50(weights='imagenet', include_top=False, input_shape=(H, W, C))\n",
    "    \n",
    "    # Add modification in the last few layers\n",
    "    x = base_model.output\n",
    "    x = Flatten()(x)\n",
    "\n",
    "    x = Dense(512, activation='relu')(x)\n",
    "    x = Dropout(0.3)(x)\n",
    "    x = Dense(128, activation='relu')(x)\n",
    "    x = Dropout(0.4)(x)\n",
    "    outputs = Dense(y_train.shape[1], activation='softmax')(x)\n",
    "    \n",
    "    # Create 'Model'\n",
    "    model = Model(inputs=base_model.input, outputs=outputs)\n",
    "    \n",
    "    # Set trainable layers\n",
    "    for layer in base_model.layers:\n",
    "        layer.trainable = True\n",
    "    \n",
    "    opt = keras.optimizers.Adam(lr=0.00001, beta_1=0.9, beta_2=0.999, epsilon=None, decay=0.0, amsgrad=False)\n",
    "    model.compile(optimizer=opt,\n",
    "                  loss='categorical_crossentropy',\n",
    "                  metrics=['acc'])\n",
    "    history = model.fit(x_train, y_train,\n",
    "                        epochs=epochs, batch_size=batch_size,\n",
    "                        validation_data=(x_dev, y_dev))\n",
    "    return model, history"
   ]
  },
  {
   "cell_type": "code",
   "execution_count": 10,
   "metadata": {
    "colab": {
     "autoexec": {
      "startup": false,
      "wait_interval": 0
     }
    },
    "colab_type": "code",
    "id": "aBDXqzz9ZVjU",
    "outputId": "1200e2e7-a5ae-4a72-8618-f1983d25e3dd"
   },
   "outputs": [
    {
     "name": "stdout",
     "output_type": "stream",
     "text": [
      "Train on 3607 samples, validate on 401 samples\n",
      "Epoch 1/20\n",
      "3607/3607 [==============================] - 206s 57ms/step - loss: 1.8982 - acc: 0.3368 - val_loss: 1.0903 - val_acc: 0.6185\n",
      "Epoch 2/20\n",
      "3607/3607 [==============================] - 194s 54ms/step - loss: 1.1509 - acc: 0.6146 - val_loss: 0.8442 - val_acc: 0.7157\n",
      "Epoch 3/20\n",
      "3607/3607 [==============================] - 194s 54ms/step - loss: 0.9158 - acc: 0.7022 - val_loss: 0.7496 - val_acc: 0.7631\n",
      "Epoch 4/20\n",
      "3607/3607 [==============================] - 194s 54ms/step - loss: 0.7182 - acc: 0.7718 - val_loss: 0.6548 - val_acc: 0.7880\n",
      "Epoch 5/20\n",
      "3607/3607 [==============================] - 194s 54ms/step - loss: 0.5778 - acc: 0.8209 - val_loss: 0.6723 - val_acc: 0.7880\n",
      "Epoch 6/20\n",
      "3607/3607 [==============================] - 194s 54ms/step - loss: 0.4676 - acc: 0.8478 - val_loss: 0.6316 - val_acc: 0.8180\n",
      "Epoch 7/20\n",
      "3607/3607 [==============================] - 194s 54ms/step - loss: 0.3628 - acc: 0.8811 - val_loss: 0.6338 - val_acc: 0.8180\n",
      "Epoch 8/20\n",
      "3607/3607 [==============================] - 194s 54ms/step - loss: 0.2956 - acc: 0.9080 - val_loss: 0.6776 - val_acc: 0.8279\n",
      "Epoch 9/20\n",
      "3607/3607 [==============================] - 194s 54ms/step - loss: 0.2358 - acc: 0.9232 - val_loss: 0.7078 - val_acc: 0.8229\n",
      "Epoch 10/20\n",
      "3607/3607 [==============================] - 194s 54ms/step - loss: 0.1901 - acc: 0.9409 - val_loss: 0.7090 - val_acc: 0.8354\n",
      "Epoch 11/20\n",
      "3607/3607 [==============================] - 194s 54ms/step - loss: 0.1566 - acc: 0.9512 - val_loss: 0.7418 - val_acc: 0.8354\n",
      "Epoch 12/20\n",
      "3607/3607 [==============================] - 194s 54ms/step - loss: 0.1267 - acc: 0.9623 - val_loss: 0.7473 - val_acc: 0.8304\n",
      "Epoch 13/20\n",
      "3607/3607 [==============================] - 194s 54ms/step - loss: 0.1114 - acc: 0.9709 - val_loss: 0.7608 - val_acc: 0.8454\n",
      "Epoch 14/20\n",
      "3607/3607 [==============================] - 194s 54ms/step - loss: 0.0912 - acc: 0.9753 - val_loss: 0.8046 - val_acc: 0.8454\n",
      "Epoch 15/20\n",
      "3607/3607 [==============================] - 194s 54ms/step - loss: 0.0800 - acc: 0.9789 - val_loss: 0.7623 - val_acc: 0.8479\n",
      "Epoch 16/20\n",
      "3607/3607 [==============================] - 194s 54ms/step - loss: 0.0655 - acc: 0.9809 - val_loss: 0.7654 - val_acc: 0.8479\n",
      "Epoch 17/20\n",
      "3607/3607 [==============================] - 194s 54ms/step - loss: 0.0530 - acc: 0.9881 - val_loss: 0.8135 - val_acc: 0.8379\n",
      "Epoch 18/20\n",
      "3607/3607 [==============================] - 194s 54ms/step - loss: 0.0456 - acc: 0.9895 - val_loss: 0.8042 - val_acc: 0.8429\n",
      "Epoch 19/20\n",
      "3607/3607 [==============================] - 194s 54ms/step - loss: 0.0422 - acc: 0.9906 - val_loss: 0.8261 - val_acc: 0.8454\n",
      "Epoch 20/20\n",
      "3607/3607 [==============================] - 194s 54ms/step - loss: 0.0475 - acc: 0.9881 - val_loss: 0.8847 - val_acc: 0.8204\n"
     ]
    }
   ],
   "source": [
    "# Run the model\n",
    "model, history = run_resnet50(x_train, y_train, x_dev, y_dev, epochs=20, batch_size=30)"
   ]
  },
  {
   "cell_type": "code",
   "execution_count": 11,
   "metadata": {
    "colab": {
     "autoexec": {
      "startup": false,
      "wait_interval": 0
     }
    },
    "colab_type": "code",
    "id": "SpR123g-ZVjY",
    "outputId": "5633233d-a3ff-47b9-81a4-28e41bb2bdd1"
   },
   "outputs": [
    {
     "data": {
      "image/png": "[encoded data removed]",
      "text/plain": [
       "<matplotlib.figure.Figure at 0x7f1be5bee908>"
      ]
     },
     "metadata": {},
     "output_type": "display_data"
    },
    {
     "data": {
      "image/png": "[encoded data removed]",
      "text/plain": [
       "<matplotlib.figure.Figure at 0x7f1be0882748>"
      ]
     },
     "metadata": {},
     "output_type": "display_data"
    },
    {
     "name": "stdout",
     "output_type": "stream",
     "text": [
      "Confusion matrix\n",
      "[[188  11   1  23   0   3   1   0]\n",
      " [  9  68   0   3   0   2   0   0]\n",
      " [  2   0   0   0   0   0   0   0]\n",
      " [ 14   1   0  57   0   1   0   0]\n",
      " [  1   0   0   0   0   0   0   0]\n",
      " [ 10   0   0   1   0  42   0   0]\n",
      " [  1   1   0   0   0   0   5   0]\n",
      " [  1   0   0   0   0   0   0   0]]\n",
      "Test Accuracy: 0.807175\n"
     ]
    },
    {
     "data": {
      "image/png": "[encoded data removed]",
      "text/plain": [
       "<matplotlib.figure.Figure at 0x7f23b129d630>"
      ]
     },
     "metadata": {},
     "output_type": "display_data"
    }
   ],
   "source": [
    "# Plot train and val accuracy & loss\n",
    "plot_history(history)\n",
    "\n",
    "# Make prediction on test set\n",
    "y_test_pred = model.predict(x_test)\n",
    "pred_class = np.argmax(y_test_pred, axis=-1)\n",
    "label_class = np.argmax(y_test, axis=-1)\n",
    "\n",
    "# Show confusion matrix\n",
    "cnf_matrix = confusion_matrix(label_class, pred_class)\n",
    "class_names = list(list(dict_id_flabel.values())) # list of all the labels\n",
    "plot_confusion_matrix(cnf_matrix, classes=class_names, title='Confusion matrix ResNet50, combined classes')\n",
    "\n",
    "# Calculate test accuracy\n",
    "from sklearn.metrics import accuracy_score\n",
    "test_acc = accuracy_score(label_class, pred_class)\n",
    "print('Test Accuracy: %f' % test_acc)"
   ]
  },
  {
   "cell_type": "code",
   "execution_count": null,
   "metadata": {
    "colab": {
     "autoexec": {
      "startup": false,
      "wait_interval": 0
     }
    },
    "colab_type": "code",
    "collapsed": true,
    "id": "XXssIk27jmP-"
   },
   "outputs": [],
   "source": []
  }
 ],
 "metadata": {
  "accelerator": "GPU",
  "colab": {
   "collapsed_sections": [],
   "default_view": {},
   "name": "power_plant_large_images_masked.ipynb",
   "provenance": [
    {
     "file_id": "17PsNwEIaBpijlZ6v5GS81_iyTy7dTtBr",
     "timestamp": 1528243456466
    },
    {
     "file_id": "1VSA2c9JS8whOeT54O-nAhEsqU-BAazyS",
     "timestamp": 1528243331133
    }
   ],
   "version": "0.3.2",
   "views": {}
  },
  "kernelspec": {
   "display_name": "Python 3",
   "language": "python",
   "name": "python3"
  },
  "language_info": {
   "codemirror_mode": {
    "name": "ipython",
    "version": 3
   },
   "file_extension": ".py",
   "mimetype": "text/x-python",
   "name": "python",
   "nbconvert_exporter": "python",
   "pygments_lexer": "ipython3",
   "version": "3.6.4"
  }
 },
 "nbformat": 4,
 "nbformat_minor": 2
}
