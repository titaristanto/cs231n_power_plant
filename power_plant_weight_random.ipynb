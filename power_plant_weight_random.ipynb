{
 "cells": [
  {
   "cell_type": "code",
   "execution_count": 1,
   "metadata": {
    "colab": {
     "autoexec": {
      "startup": false,
      "wait_interval": 0
     },
     "base_uri": "https://localhost:8080/",
     "height": 35
    },
    "colab_type": "code",
    "executionInfo": {
     "elapsed": 2727,
     "status": "ok",
     "timestamp": 1528312926242,
     "user": {
      "displayName": "Tita Ristanto",
      "photoUrl": "//lh6.googleusercontent.com/-WzCH6Rmr_tA/AAAAAAAAAAI/AAAAAAAABTo/i_JXU-eKApc/s50-c-k-no/photo.jpg",
      "userId": "104366007315489817645"
     },
     "user_tz": 420
    },
    "id": "1KUFeMPKZViz",
    "outputId": "5bab6603-8fdd-4f9c-b9c4-0884f88f75a2"
   },
   "outputs": [
    {
     "name": "stderr",
     "output_type": "stream",
     "text": [
      "/home/shared/anaconda3/lib/python3.6/site-packages/h5py/__init__.py:36: FutureWarning: Conversion of the second argument of issubdtype from `float` to `np.floating` is deprecated. In future, it will be treated as `np.float64 == np.dtype(float).type`.\n",
      "  from ._conv import register_converters as _register_converters\n",
      "Using TensorFlow backend.\n"
     ]
    }
   ],
   "source": [
    "from PIL import Image\n",
    "import numpy as np\n",
    "import os, glob, itertools\n",
    "import matplotlib.pyplot as plt\n",
    "from sklearn.metrics import confusion_matrix\n",
    "from sklearn.metrics import accuracy_score\n",
    "from sklearn.model_selection import train_test_split\n",
    "from sklearn.preprocessing import LabelBinarizer\n",
    "import keras\n",
    "from keras.models import Model\n",
    "from keras.models import Sequential, model_from_json\n",
    "from keras.layers import Input, Dense, Dropout, Activation, Flatten\n",
    "from keras.layers import Conv2D, MaxPooling2D, GlobalAveragePooling2D, Flatten\n",
    "from keras.utils import multi_gpu_model\n",
    "from keras.applications.resnet50 import ResNet50\n",
    "from keras import optimizers\n",
    "#from keras.applications.inception_resnet_v2 import InceptionResNetV2\n",
    "#from keras.applications.densenet import DenseNet201\n",
    "#from keras.applications.inception_v3 import InceptionV3\n",
    "import csv\n",
    "import cv2 as cv"
   ]
  },
  {
   "cell_type": "code",
   "execution_count": 2,
   "metadata": {
    "colab": {
     "autoexec": {
      "startup": false,
      "wait_interval": 0
     },
     "base_uri": "https://localhost:8080/",
     "height": 35
    },
    "colab_type": "code",
    "executionInfo": {
     "elapsed": 844,
     "status": "ok",
     "timestamp": 1528312922255,
     "user": {
      "displayName": "Tita Ristanto",
      "photoUrl": "//lh6.googleusercontent.com/-WzCH6Rmr_tA/AAAAAAAAAAI/AAAAAAAABTo/i_JXU-eKApc/s50-c-k-no/photo.jpg",
      "userId": "104366007315489817645"
     },
     "user_tz": 420
    },
    "id": "_MNFtWHOZVi8",
    "outputId": "98c5261a-df32-4917-c380-188acd47b92f"
   },
   "outputs": [
    {
     "name": "stdout",
     "output_type": "stream",
     "text": [
      "Using device:  /device:GPU:0\n"
     ]
    }
   ],
   "source": [
    "# Set up some global variables\n",
    "USE_GPU = True\n",
    "\n",
    "if USE_GPU:\n",
    "    device = '/device:GPU:0'\n",
    "else:\n",
    "    device = '/cpu:0'\n",
    "\n",
    "# Constant to control how often we print when training models\n",
    "print_every = 100\n",
    "\n",
    "print('Using device: ', device)"
   ]
  },
  {
   "cell_type": "code",
   "execution_count": 3,
   "metadata": {
    "colab": {
     "autoexec": {
      "startup": false,
      "wait_interval": 0
     }
    },
    "colab_type": "code",
    "id": "8wzxUoJpZVjC"
   },
   "outputs": [],
   "source": [
    "%matplotlib inline\n",
    "plt.rcParams['figure.figsize'] = (10.0, 8.0) # set default size of plots\n",
    "plt.rcParams['image.interpolation'] = 'nearest'\n",
    "plt.rcParams['image.cmap'] = 'gray'\n",
    "\n",
    "# for auto-reloading external modules\n",
    "# see http://stackoverflow.com/questions/1907993/autoreload-of-modules-in-ipython\n",
    "%load_ext autoreload\n",
    "%autoreload 2"
   ]
  },
  {
   "cell_type": "code",
   "execution_count": 4,
   "metadata": {
    "colab": {
     "autoexec": {
      "startup": false,
      "wait_interval": 0
     }
    },
    "colab_type": "code",
    "id": "C_zUNPu2ZVjG"
   },
   "outputs": [],
   "source": [
    "def parse_filenames(folder_name):\n",
    "    files = glob.glob(os.path.join(\"./\", folder_name, '*.tif'))\n",
    "    return files\n",
    "\n",
    "def get_data(filenames):\n",
    "    # Read from CSV file, find abbreviated label (alabel) to full label (flabel) mapping\n",
    "    csv_rows = []\n",
    "    with open(\"PLANTS.csv\", 'rtU') as csvfile:\n",
    "        csvreader = csv.reader(csvfile, delimiter=',', dialect=csv.excel_tab)\n",
    "        for row in csvreader:\n",
    "            csv_rows.append(row)\n",
    "\n",
    "    for col_idx, col_title in enumerate(csv_rows[1]):\n",
    "        if \"PLPRMFL\" in col_title:\n",
    "            abbr_idx = col_idx\n",
    "        if \"PLFUELCT\" in col_title:\n",
    "            full_idx = col_idx\n",
    "        if \"Imagery Status\" in col_title:\n",
    "            imagery_idx = col_idx\n",
    "\n",
    "    dict_alabel_flabel = {}\n",
    "    dict_flabel_id = {}\n",
    "    dict_alabel_id = {}\n",
    "    dict_id_flabel = {}\n",
    "    flabel_id_count = 0\n",
    "\n",
    "    for row in csv_rows:\n",
    "        if \"YES\" in row[imagery_idx]:\n",
    "            if row[full_idx] not in dict_flabel_id:\n",
    "                dict_flabel_id[row[full_idx]] = flabel_id_count\n",
    "                dict_id_flabel[flabel_id_count] = row[full_idx]\n",
    "                flabel_id_count += 1\n",
    "            if row[abbr_idx] not in dict_alabel_flabel:\n",
    "                dict_alabel_flabel[row[abbr_idx]] = row[full_idx]\n",
    "                dict_alabel_id[row[abbr_idx]] = dict_flabel_id[row[full_idx]]\n",
    "    print(dict_alabel_flabel)\n",
    "    print(dict_flabel_id)\n",
    "\n",
    "    m = len(filenames)\n",
    "    X = np.zeros((m, 300, 300, 3))\n",
    "    Y = np.zeros((m))\n",
    "    dict_id_count = {}\n",
    "    dict_flabel_count = {}\n",
    "\n",
    "    for i in range(m):\n",
    "        img = Image.open(filenames[i])\n",
    "        X[i] = np.array(img)[:300,:300,:3]\n",
    "\n",
    "        alabel = filenames[i].split('_')[-1][:-4]\n",
    "        if (alabel not in dict_alabel_flabel):\n",
    "            print(\"WARNING: unseen a-label found in filename.\")\n",
    "        Y[i] = int(dict_alabel_id[alabel])\n",
    "        if (Y[i] not in dict_id_count):\n",
    "            dict_id_count[Y[i]] = 0\n",
    "        dict_id_count[Y[i]] += 1\n",
    "        dict_flabel_count[dict_id_flabel[Y[i]]] = dict_id_count[Y[i]]\n",
    "\n",
    "    print(X.shape)\n",
    "    print(dict_id_count)\n",
    "    print(dict_flabel_count)\n",
    "    print(sorted(((v,k) for k,v in dict_flabel_count.items()), reverse=True))\n",
    "    print(np.histogram(Y))\n",
    "    return X, Y, dict_id_flabel\n",
    "\n",
    "def resize_image(X, size):\n",
    "    X_new = np.zeros((X.shape[0], *size, 3))\n",
    "    for i in range(X.shape[0]):\n",
    "        X_new[i, :, :, :] = cv.resize(X[i, :, :, :], \n",
    "                                      size, interpolation=cv.INTER_LINEAR)\n",
    "    return X_new\n",
    "\n",
    "def plot_history(history):\n",
    "    '''\n",
    "    Plots train and val loss and accuracy given history. From: history = model.fit(...)\n",
    "    '''\n",
    "    loss_list = [s for s in history.history.keys() if 'loss' in s and 'val' not in s]\n",
    "    val_loss_list = [s for s in history.history.keys() if 'loss' in s and 'val' in s]\n",
    "    acc_list = [s for s in history.history.keys() if 'acc' in s and 'val' not in s]\n",
    "    val_acc_list = [s for s in history.history.keys() if 'acc' in s and 'val' in s]\n",
    "\n",
    "    if len(loss_list) == 0:\n",
    "        print('Loss is missing in history')\n",
    "        return\n",
    "\n",
    "    ## As loss always exists\n",
    "    epochs = range(1,len(history.history[loss_list[0]]) + 1)\n",
    "\n",
    "    ## Loss\n",
    "    plt.figure(1)\n",
    "    for l in loss_list:\n",
    "        plt.plot(epochs, history.history[l], 'b', label='Training loss (' + str(str(format(history.history[l][-1],'.5f'))+')'))\n",
    "    for l in val_loss_list:\n",
    "        plt.plot(epochs, history.history[l], 'g', label='Validation loss (' + str(str(format(history.history[l][-1],'.5f'))+')'))\n",
    "\n",
    "    plt.title('Loss')\n",
    "    plt.xlabel('Epochs')\n",
    "    plt.ylabel('Loss')\n",
    "    plt.legend()\n",
    "\n",
    "    ## Accuracy\n",
    "    plt.figure(2)\n",
    "    for l in acc_list:\n",
    "        plt.plot(epochs, history.history[l], 'b', label='Training accuracy (' + str(format(history.history[l][-1],'.5f'))+')')\n",
    "    for l in val_acc_list:\n",
    "        plt.plot(epochs, history.history[l], 'g', label='Validation accuracy (' + str(format(history.history[l][-1],'.5f'))+')')\n",
    "\n",
    "    plt.title('Accuracy')\n",
    "    plt.xlabel('Epochs')\n",
    "    plt.ylabel('Accuracy')\n",
    "    plt.legend()\n",
    "    plt.show()\n",
    "\n",
    "def plot_confusion_matrix(cm, classes,\n",
    "                          normalize=False,\n",
    "                          title='Confusion matrix',\n",
    "                          cmap=plt.cm.Blues):\n",
    "    '''\n",
    "    :param cm: a confusion matrix output from sklearn func, which takes on actual label and prediction\n",
    "    :param classes: a list of all the labels\n",
    "    :param normalize: if True, performs row normalization\n",
    "    :param title: title of the plot\n",
    "    :param cmap: color choices\n",
    "    '''\n",
    "    if normalize:\n",
    "        cm = cm.astype('float') / cm.sum(axis=1)[:, np.newaxis]\n",
    "        print(\"Normalized confusion matrix\")\n",
    "    else:\n",
    "        print('Confusion matrix')\n",
    "\n",
    "    print(cm)\n",
    "\n",
    "    plt.figure()\n",
    "    plt.imshow(cm, interpolation='nearest', cmap=cmap)\n",
    "    plt.title(title)\n",
    "    plt.colorbar()\n",
    "    tick_marks = np.arange(len(classes))\n",
    "    plt.xticks(tick_marks, classes, rotation=45)\n",
    "    plt.yticks(tick_marks, classes)\n",
    "\n",
    "    fmt = '.2f' if normalize else 'd'\n",
    "    thresh = cm.max() / 2.\n",
    "    for i, j in itertools.product(range(cm.shape[0]), range(cm.shape[1])):\n",
    "        plt.text(j, i, format(cm[i, j], fmt),\n",
    "                 horizontalalignment=\"center\",\n",
    "                 color=\"white\" if cm[i, j] > thresh else \"black\")\n",
    "\n",
    "    plt.tight_layout()\n",
    "    plt.ylabel('True label')\n",
    "    plt.xlabel('Predicted label')\n",
    "    plt.savefig('Power Plant Classification Confusion Matrix.png')"
   ]
  },
  {
   "cell_type": "code",
   "execution_count": 5,
   "metadata": {
    "colab": {
     "autoexec": {
      "startup": false,
      "wait_interval": 0
     },
     "base_uri": "https://localhost:8080/",
     "height": 35
    },
    "colab_type": "code",
    "executionInfo": {
     "elapsed": 1014,
     "status": "ok",
     "timestamp": 1528313082917,
     "user": {
      "displayName": "Tita Ristanto",
      "photoUrl": "//lh6.googleusercontent.com/-WzCH6Rmr_tA/AAAAAAAAAAI/AAAAAAAABTo/i_JXU-eKApc/s50-c-k-no/photo.jpg",
      "userId": "104366007315489817645"
     },
     "user_tz": 420
    },
    "id": "27hdjDoyf4Db",
    "outputId": "265519f2-07a1-4d5f-a3b1-704940ffac0f"
   },
   "outputs": [
    {
     "data": {
      "text/plain": [
       "'/home/Jerry/cs231n_power_plant'"
      ]
     },
     "execution_count": 5,
     "metadata": {},
     "output_type": "execute_result"
    }
   ],
   "source": [
    "#os.chdir('drive/Colab Notebooks')\n",
    "os.getcwd()"
   ]
  },
  {
   "cell_type": "code",
   "execution_count": 6,
   "metadata": {
    "colab": {
     "autoexec": {
      "startup": false,
      "wait_interval": 0
     },
     "base_uri": "https://localhost:8080/",
     "height": 567
    },
    "colab_type": "code",
    "executionInfo": {
     "elapsed": 2169757,
     "status": "error",
     "timestamp": 1528315258946,
     "user": {
      "displayName": "Tita Ristanto",
      "photoUrl": "//lh6.googleusercontent.com/-WzCH6Rmr_tA/AAAAAAAAAAI/AAAAAAAABTo/i_JXU-eKApc/s50-c-k-no/photo.jpg",
      "userId": "104366007315489817645"
     },
     "user_tz": 420
    },
    "id": "lkf35qaaZVjJ",
    "outputId": "1c8807f6-3a05-4da4-97bb-d93cb29c9ae0"
   },
   "outputs": [
    {
     "name": "stderr",
     "output_type": "stream",
     "text": [
      "/home/shared/anaconda3/lib/python3.6/site-packages/ipykernel_launcher.py:8: DeprecationWarning: 'U' mode is deprecated\n",
      "  \n"
     ]
    },
    {
     "name": "stdout",
     "output_type": "stream",
     "text": [
      "{'COG': 'COAL', 'BLQ': 'BIOMASS', 'DFO': 'OIL', 'BIT': 'COAL', 'NG': 'GAS', 'WH': 'OTHF', 'WAT': 'HYDRO', 'NUC': 'NUCLEAR', 'WDS': 'BIOMASS', 'SUB': 'COAL', 'OBS': 'BIOMASS', 'LFG': 'BIOMASS', 'SUN': 'SOLAR', '': '', 'WND': 'WIND', 'OTH': 'OTHF', 'GEO': 'GEOTHERMAL', 'OG': 'OFSL', 'PUR': 'OTHF', 'OBG': 'BIOMASS', 'MSW': 'BIOMASS', 'PRG': 'OTHF', 'MWH': 'OTHF', 'AB': 'BIOMASS', 'KER': 'OIL', 'RFO': 'OIL', 'PC': 'OIL', 'BFG': 'OFSL', 'SGC': 'COAL', 'LIG': 'COAL', 'WC': 'COAL', 'SLW': 'BIOMASS', 'WDL': 'BIOMASS'}\n",
      "{'COAL': 0, 'BIOMASS': 1, 'OIL': 2, 'GAS': 3, 'OTHF': 4, 'HYDRO': 5, 'NUCLEAR': 6, 'SOLAR': 7, '': 8, 'WIND': 9, 'GEOTHERMAL': 10, 'OFSL': 11}\n",
      "(4454, 300, 300, 3)\n",
      "{5.0: 688, 9.0: 457, 2.0: 326, 8.0: 19, 7.0: 850, 3.0: 1160, 0.0: 357, 1.0: 427, 6.0: 46, 10.0: 59, 4.0: 53, 11.0: 12}\n",
      "{'HYDRO': 688, 'WIND': 457, 'OIL': 326, '': 19, 'SOLAR': 850, 'GAS': 1160, 'COAL': 357, 'BIOMASS': 427, 'NUCLEAR': 46, 'GEOTHERMAL': 59, 'OTHF': 53, 'OFSL': 12}\n",
      "[(1160, 'GAS'), (850, 'SOLAR'), (688, 'HYDRO'), (457, 'WIND'), (427, 'BIOMASS'), (357, 'COAL'), (326, 'OIL'), (59, 'GEOTHERMAL'), (53, 'OTHF'), (46, 'NUCLEAR'), (19, ''), (12, 'OFSL')]\n",
      "(array([ 784,  326, 1160,   53,  688,   46,  850,   19,  457,   71]), array([ 0. ,  1.1,  2.2,  3.3,  4.4,  5.5,  6.6,  7.7,  8.8,  9.9, 11. ]))\n"
     ]
    }
   ],
   "source": [
    "np.random.seed(7)\n",
    "\n",
    "# Load images\n",
    "X_raw, Y_raw, dict_id_flabel = get_data(parse_filenames(folder_name='uspp_naip_resized'))\n",
    "\n",
    "# Resize images\n",
    "#X = resize_image(X_raw, size=(300, 300))\n",
    "X = X_raw\n",
    "\n",
    "# Convert labels into one-hot-encoding format\n",
    "encoder = LabelBinarizer()\n",
    "Y = encoder.fit_transform(Y_raw)\n",
    "\n",
    "# Split into train, dev, and test set\n",
    "x_traindev, x_test, y_traindev, y_test = train_test_split(X, Y,\n",
    "                                                          test_size=0.1,\n",
    "                                                          shuffle=True)\n",
    "x_train, x_dev, y_train, y_dev = train_test_split(x_traindev, y_traindev,\n",
    "                                                          test_size=0.1,\n",
    "                                                          shuffle=True)"
   ]
  },
  {
   "cell_type": "markdown",
   "metadata": {
    "colab_type": "text",
    "id": "WaiV5cgMZVjR"
   },
   "source": [
    "## ResNet-50 Using Randomized Weights (All weights trainable)"
   ]
  },
  {
   "cell_type": "code",
   "execution_count": 7,
   "metadata": {
    "colab": {
     "autoexec": {
      "startup": false,
      "wait_interval": 0
     }
    },
    "colab_type": "code",
    "id": "euP6F8JdZVjS"
   },
   "outputs": [],
   "source": [
    "def run_resnet50(x_train, y_train, x_dev, y_dev, epochs=50, batch_size=200):\n",
    "    # Create base model:ResNet50\n",
    "    M, H, W, C = x_train.shape\n",
    "    base_model = ResNet50(weights=None, include_top=False, input_shape=(H, W, C))\n",
    "    \n",
    "    # Add modification in the last few layers\n",
    "    x = base_model.output\n",
    "    x = Flatten()(x)\n",
    "\n",
    "    x = Dense(512, activation='relu')(x)\n",
    "    x = Dropout(0.3)(x)\n",
    "    x = Dense(128, activation='relu')(x)\n",
    "    x = Dropout(0.4)(x)\n",
    "    outputs = Dense(y_train.shape[1], activation='softmax')(x)\n",
    "    \n",
    "    # Create 'Model'\n",
    "    model = Model(inputs=base_model.input, outputs=outputs)\n",
    "    \n",
    "    # Set trainable layers\n",
    "    for layer in base_model.layers:\n",
    "        layer.trainable = True\n",
    "    \n",
    "    opt = keras.optimizers.Adam(lr=0.00001, beta_1=0.9, beta_2=0.999, epsilon=None, decay=0.0, amsgrad=False)\n",
    "    model.compile(optimizer=opt,\n",
    "                  loss='categorical_crossentropy',\n",
    "                  metrics=['acc'])\n",
    "    history = model.fit(x_train, y_train,\n",
    "                        epochs=epochs, batch_size=batch_size,\n",
    "                        validation_data=(x_dev, y_dev))\n",
    "    return model, history"
   ]
  },
  {
   "cell_type": "code",
   "execution_count": 8,
   "metadata": {
    "colab": {
     "autoexec": {
      "startup": false,
      "wait_interval": 0
     }
    },
    "colab_type": "code",
    "id": "aBDXqzz9ZVjU",
    "outputId": "1200e2e7-a5ae-4a72-8618-f1983d25e3dd"
   },
   "outputs": [
    {
     "name": "stdout",
     "output_type": "stream",
     "text": [
      "Train on 3607 samples, validate on 401 samples\n",
      "Epoch 1/20\n",
      "3607/3607 [==============================] - 213s 59ms/step - loss: 2.7370 - acc: 0.1758 - val_loss: 2.0867 - val_acc: 0.2868\n",
      "Epoch 2/20\n",
      "3607/3607 [==============================] - 187s 52ms/step - loss: 2.2322 - acc: 0.2357 - val_loss: 2.0383 - val_acc: 0.2718\n",
      "Epoch 3/20\n",
      "3607/3607 [==============================] - 187s 52ms/step - loss: 2.1418 - acc: 0.2490 - val_loss: 2.0294 - val_acc: 0.2469\n",
      "Epoch 4/20\n",
      "3607/3607 [==============================] - 187s 52ms/step - loss: 2.0928 - acc: 0.2670 - val_loss: 1.9690 - val_acc: 0.3292\n",
      "Epoch 5/20\n",
      "3607/3607 [==============================] - 187s 52ms/step - loss: 2.0466 - acc: 0.2864 - val_loss: 1.9756 - val_acc: 0.2868\n",
      "Epoch 6/20\n",
      "3607/3607 [==============================] - 187s 52ms/step - loss: 2.0167 - acc: 0.3052 - val_loss: 1.9559 - val_acc: 0.3242\n",
      "Epoch 7/20\n",
      "3607/3607 [==============================] - 188s 52ms/step - loss: 1.9747 - acc: 0.3252 - val_loss: 1.9214 - val_acc: 0.3092\n",
      "Epoch 8/20\n",
      "3607/3607 [==============================] - 187s 52ms/step - loss: 1.9418 - acc: 0.3441 - val_loss: 1.8558 - val_acc: 0.3566\n",
      "Epoch 9/20\n",
      "3607/3607 [==============================] - 187s 52ms/step - loss: 1.9287 - acc: 0.3599 - val_loss: 1.8872 - val_acc: 0.3491\n",
      "Epoch 10/20\n",
      "3607/3607 [==============================] - 188s 52ms/step - loss: 1.8967 - acc: 0.3643 - val_loss: 1.8415 - val_acc: 0.3666\n",
      "Epoch 11/20\n",
      "3607/3607 [==============================] - 187s 52ms/step - loss: 1.8705 - acc: 0.3671 - val_loss: 1.8386 - val_acc: 0.3616\n",
      "Epoch 12/20\n",
      "3607/3607 [==============================] - 187s 52ms/step - loss: 1.8559 - acc: 0.3912 - val_loss: 1.9066 - val_acc: 0.3416\n",
      "Epoch 13/20\n",
      "3607/3607 [==============================] - 187s 52ms/step - loss: 1.8536 - acc: 0.3823 - val_loss: 1.7905 - val_acc: 0.3965\n",
      "Epoch 14/20\n",
      "3607/3607 [==============================] - 187s 52ms/step - loss: 1.8215 - acc: 0.3865 - val_loss: 1.8325 - val_acc: 0.3566\n",
      "Epoch 15/20\n",
      "3607/3607 [==============================] - 187s 52ms/step - loss: 1.7978 - acc: 0.4073 - val_loss: 1.7623 - val_acc: 0.3840\n",
      "Epoch 16/20\n",
      "3607/3607 [==============================] - 187s 52ms/step - loss: 1.7906 - acc: 0.4034 - val_loss: 1.8006 - val_acc: 0.3890\n",
      "Epoch 17/20\n",
      "3607/3607 [==============================] - 187s 52ms/step - loss: 1.7744 - acc: 0.4134 - val_loss: 1.7938 - val_acc: 0.3666\n",
      "Epoch 18/20\n",
      "3607/3607 [==============================] - 187s 52ms/step - loss: 1.7715 - acc: 0.4109 - val_loss: 1.7237 - val_acc: 0.4090\n",
      "Epoch 19/20\n",
      "3607/3607 [==============================] - 187s 52ms/step - loss: 1.7248 - acc: 0.4300 - val_loss: 1.7205 - val_acc: 0.4165\n",
      "Epoch 20/20\n",
      "3607/3607 [==============================] - 187s 52ms/step - loss: 1.7077 - acc: 0.4269 - val_loss: 1.7153 - val_acc: 0.3890\n"
     ]
    }
   ],
   "source": [
    "# Run the model\n",
    "model, history = run_resnet50(x_train, y_train, x_dev, y_dev, epochs=20, batch_size=30)"
   ]
  },
  {
   "cell_type": "code",
   "execution_count": 9,
   "metadata": {
    "colab": {
     "autoexec": {
      "startup": false,
      "wait_interval": 0
     }
    },
    "colab_type": "code",
    "id": "SpR123g-ZVjY",
    "outputId": "5633233d-a3ff-47b9-81a4-28e41bb2bdd1"
   },
   "outputs": [
    {
     "data": {
      "image/png": "[encoded data removed]",
      "text/plain": [
       "<matplotlib.figure.Figure at 0x7f925e71a240>"
      ]
     },
     "metadata": {},
     "output_type": "display_data"
    },
    {
     "data": {
      "image/png": "[encoded data removed]",
      "text/plain": [
       "<matplotlib.figure.Figure at 0x7f925c0890f0>"
      ]
     },
     "metadata": {},
     "output_type": "display_data"
    },
    {
     "name": "stdout",
     "output_type": "stream",
     "text": [
      "Confusion matrix\n",
      "[[ 0  0  0 29  0  5  0  3  0  0  0  0]\n",
      " [ 0  0  0 29  0  4  0  7  0  1  0  0]\n",
      " [ 0  0  1 13  0 11  0  1  0  2  0  0]\n",
      " [ 0  0  0 97  0  9  0 11  0  1  0  0]\n",
      " [ 0  0  0  1  0  2  0  0  0  0  0  0]\n",
      " [ 0  0  0 23  0 54  0  4  0  1  0  0]\n",
      " [ 0  0  0  2  0  0  0  0  0  0  0  0]\n",
      " [ 0  0  0 31  0  5  0 33  0  4  0  0]\n",
      " [ 0  0  0  0  0  1  0  0  0  0  0  0]\n",
      " [ 0  0  0 10  0  3  0 14  0 26  0  0]\n",
      " [ 0  0  0  2  0  1  0  1  0  3  0  0]\n",
      " [ 0  0  0  0  0  0  0  1  0  0  0  0]]\n",
      "Test Accuracy: 0.473094\n"
     ]
    },
    {
     "data": {
      "image/png": "[encoded data removed]",
      "text/plain": [
       "<matplotlib.figure.Figure at 0x7f925c0270f0>"
      ]
     },
     "metadata": {},
     "output_type": "display_data"
    }
   ],
   "source": [
    "# Plot train and val accuracy & loss\n",
    "plot_history(history)\n",
    "\n",
    "# Make prediction on test set\n",
    "y_test_pred = model.predict(x_test)\n",
    "pred_class = np.argmax(y_test_pred, axis=-1)\n",
    "label_class = np.argmax(y_test, axis=-1)\n",
    "\n",
    "# Show confusion matrix\n",
    "cnf_matrix = confusion_matrix(label_class, pred_class)\n",
    "class_names = list(list(dict_id_flabel.values())) # list of all the labels\n",
    "plot_confusion_matrix(cnf_matrix, classes=class_names, title='Confusion matrix ResNet50, random init weights')\n",
    "\n",
    "# Calculate test accuracy\n",
    "from sklearn.metrics import accuracy_score\n",
    "test_acc = accuracy_score(label_class, pred_class)\n",
    "print('Test Accuracy: %f' % test_acc)"
   ]
  },
  {
   "cell_type": "code",
   "execution_count": null,
   "metadata": {
    "colab": {
     "autoexec": {
      "startup": false,
      "wait_interval": 0
     }
    },
    "colab_type": "code",
    "id": "sLQz0vX2ZVjc"
   },
   "outputs": [],
   "source": [
    "# Save model and history\n",
    "np.savetxt('resnet50_random_weights_hist.csv', \n",
    "           np.c_[history.history['loss'], history.history['val_loss']],\n",
    "           delimiter=',')\n",
    "from keras.models import model_from_json\n",
    "model_json = model.to_json()\n",
    "with open(\"resnet50_random_weights.json\", \"w\") as json_file:\n",
    "    json_file.write(model_json)\n",
    "# serialize weights to HDF5\n",
    "model.save_weights(\"resnet50_random_weights.h5\")\n",
    "print(\"Saved model to disk\")"
   ]
  },
  {
   "cell_type": "code",
   "execution_count": null,
   "metadata": {
    "colab": {
     "autoexec": {
      "startup": false,
      "wait_interval": 0
     }
    },
    "colab_type": "code",
    "id": "jqubyAsMZVjd",
    "outputId": "232d57ec-d021-427f-8c10-3f6be585d193"
   },
   "outputs": [
    {
     "name": "stdout",
     "output_type": "stream",
     "text": [
      "Loaded model from disk\n"
     ]
    }
   ],
   "source": [
    "# load json and create model\n",
    "json_file = open('resnet50_random_weights.json', 'r')\n",
    "loaded_model_json = json_file.read()\n",
    "json_file.close()\n",
    "loaded_model = model_from_json(loaded_model_json)\n",
    "# load weights into new model\n",
    "loaded_model.load_weights(\"resnet50_random_weights.h5\")\n",
    "print(\"Loaded model from disk\")"
   ]
  },
  {
   "cell_type": "code",
   "execution_count": null,
   "metadata": {
    "colab": {
     "autoexec": {
      "startup": false,
      "wait_interval": 0
     }
    },
    "colab_type": "code",
    "id": "hRbx9Z_8ZVjh",
    "outputId": "4c7e44c6-a6a5-4011-82c0-45581625b68b"
   },
   "outputs": [
    {
     "name": "stdout",
     "output_type": "stream",
     "text": [
      "Train on 3607 samples, validate on 401 samples\n",
      "Epoch 1/40\n",
      "3607/3607 [==============================] - 221s 61ms/step - loss: 1.3586 - acc: 0.5459 - val_loss: 1.7921 - val_acc: 0.3666\n",
      "Epoch 2/40\n",
      "3607/3607 [==============================] - 193s 54ms/step - loss: 1.2716 - acc: 0.5645 - val_loss: 1.8176 - val_acc: 0.3940\n",
      "Epoch 3/40\n",
      "3607/3607 [==============================] - 193s 53ms/step - loss: 1.2610 - acc: 0.5755 - val_loss: 2.1549 - val_acc: 0.3815\n",
      "Epoch 4/40\n",
      "3607/3607 [==============================] - 193s 54ms/step - loss: 1.1817 - acc: 0.5955 - val_loss: 2.0193 - val_acc: 0.3890\n",
      "Epoch 5/40\n",
      "3607/3607 [==============================] - 193s 53ms/step - loss: 1.2202 - acc: 0.5875 - val_loss: 1.8394 - val_acc: 0.4140\n",
      "Epoch 6/40\n",
      "3607/3607 [==============================] - 193s 54ms/step - loss: 1.1039 - acc: 0.6191 - val_loss: 2.1599 - val_acc: 0.3766\n",
      "Epoch 7/40\n",
      "3607/3607 [==============================] - 193s 53ms/step - loss: 1.0693 - acc: 0.6354 - val_loss: 2.1601 - val_acc: 0.3840\n",
      "Epoch 8/40\n",
      "3607/3607 [==============================] - 193s 54ms/step - loss: 1.0090 - acc: 0.6551 - val_loss: 1.9907 - val_acc: 0.4140\n",
      "Epoch 9/40\n",
      "3607/3607 [==============================] - 193s 54ms/step - loss: 1.0276 - acc: 0.6537 - val_loss: 2.1823 - val_acc: 0.4190\n",
      "Epoch 10/40\n",
      "3607/3607 [==============================] - 193s 53ms/step - loss: 0.9471 - acc: 0.6864 - val_loss: 2.1994 - val_acc: 0.3915\n",
      "Epoch 11/40\n",
      "3607/3607 [==============================] - 193s 53ms/step - loss: 0.8929 - acc: 0.7025 - val_loss: 2.4913 - val_acc: 0.3541\n",
      "Epoch 12/40\n",
      "3607/3607 [==============================] - 193s 53ms/step - loss: 0.8757 - acc: 0.7031 - val_loss: 2.3064 - val_acc: 0.3890\n",
      "Epoch 13/40\n",
      "3607/3607 [==============================] - 193s 53ms/step - loss: 0.7925 - acc: 0.7275 - val_loss: 2.4199 - val_acc: 0.4065\n",
      "Epoch 14/40\n",
      "3607/3607 [==============================] - 193s 53ms/step - loss: 0.8138 - acc: 0.7291 - val_loss: 2.3430 - val_acc: 0.3791\n",
      "Epoch 15/40\n",
      "3607/3607 [==============================] - 193s 53ms/step - loss: 0.7336 - acc: 0.7549 - val_loss: 2.5685 - val_acc: 0.4090\n",
      "Epoch 16/40\n",
      "3607/3607 [==============================] - 193s 53ms/step - loss: 0.7014 - acc: 0.7671 - val_loss: 2.5506 - val_acc: 0.3641\n",
      "Epoch 17/40\n",
      "3607/3607 [==============================] - 193s 53ms/step - loss: 0.6433 - acc: 0.7840 - val_loss: 2.7589 - val_acc: 0.3915\n",
      "Epoch 18/40\n",
      "3607/3607 [==============================] - 193s 54ms/step - loss: 0.6578 - acc: 0.7838 - val_loss: 2.7678 - val_acc: 0.3317\n",
      "Epoch 19/40\n",
      "3607/3607 [==============================] - 193s 54ms/step - loss: 0.5761 - acc: 0.8034 - val_loss: 2.6151 - val_acc: 0.3666\n",
      "Epoch 20/40\n",
      "3607/3607 [==============================] - 193s 54ms/step - loss: 0.6194 - acc: 0.7893 - val_loss: 3.0190 - val_acc: 0.3466\n",
      "Epoch 21/40\n",
      "3607/3607 [==============================] - 193s 54ms/step - loss: 0.7111 - acc: 0.7591 - val_loss: 2.8130 - val_acc: 0.3915\n",
      "Epoch 22/40\n",
      "3607/3607 [==============================] - 193s 54ms/step - loss: 0.5411 - acc: 0.8137 - val_loss: 3.2000 - val_acc: 0.3840\n",
      "Epoch 23/40\n",
      "3607/3607 [==============================] - 193s 54ms/step - loss: 0.4762 - acc: 0.8375 - val_loss: 3.0263 - val_acc: 0.3641\n",
      "Epoch 24/40\n",
      "3607/3607 [==============================] - 193s 53ms/step - loss: 0.4868 - acc: 0.8373 - val_loss: 3.1949 - val_acc: 0.3791\n",
      "Epoch 25/40\n",
      "3607/3607 [==============================] - 193s 53ms/step - loss: 0.4669 - acc: 0.8378 - val_loss: 3.1851 - val_acc: 0.3766\n",
      "Epoch 26/40\n",
      "3607/3607 [==============================] - 193s 54ms/step - loss: 0.4241 - acc: 0.8511 - val_loss: 3.0733 - val_acc: 0.3342\n",
      "Epoch 27/40\n",
      "3607/3607 [==============================] - 193s 53ms/step - loss: 0.4150 - acc: 0.8558 - val_loss: 3.1600 - val_acc: 0.3217\n",
      "Epoch 28/40\n",
      "3607/3607 [==============================] - 193s 54ms/step - loss: 0.3586 - acc: 0.8836 - val_loss: 3.2903 - val_acc: 0.3741\n",
      "Epoch 29/40\n",
      "3607/3607 [==============================] - 193s 54ms/step - loss: 0.4787 - acc: 0.8375 - val_loss: 3.2295 - val_acc: 0.3491\n",
      "Epoch 30/40\n",
      "3120/3607 [========================>.....] - ETA: 24s - loss: 0.2880 - acc: 0.9038"
     ]
    }
   ],
   "source": [
    "# Run loaded model\n",
    "loaded_model.compile(optimizer='adam',\n",
    "              loss='categorical_crossentropy',\n",
    "              metrics=['acc'])\n",
    "history = loaded_model.fit(x_train, y_train,\n",
    "                    epochs=40, batch_size=40,\n",
    "                    validation_data=(x_dev, y_dev))"
   ]
  },
  {
   "cell_type": "code",
   "execution_count": 10,
   "metadata": {
    "colab": {
     "autoexec": {
      "startup": false,
      "wait_interval": 0
     },
     "base_uri": "https://localhost:8080/",
     "height": 121
    },
    "colab_type": "code",
    "executionInfo": {
     "elapsed": 17719,
     "status": "ok",
     "timestamp": 1528313042968,
     "user": {
      "displayName": "Tita Ristanto",
      "photoUrl": "//lh6.googleusercontent.com/-WzCH6Rmr_tA/AAAAAAAAAAI/AAAAAAAABTo/i_JXU-eKApc/s50-c-k-no/photo.jpg",
      "userId": "104366007315489817645"
     },
     "user_tz": 420
    },
    "id": "itME4qZ5esZw",
    "outputId": "584af61c-8648-4d48-d845-879396a6d3f9"
   },
   "outputs": [
    {
     "name": "stdout",
     "output_type": "stream",
     "text": [
      "gpg: keybox '/tmp/tmpuspi_xgt/pubring.gpg' created\n",
      "gpg: /tmp/tmpuspi_xgt/trustdb.gpg: trustdb created\n",
      "gpg: key AD5F235DF639B041: public key \"Launchpad PPA for Alessandro Strada\" imported\n",
      "gpg: Total number processed: 1\n",
      "gpg:               imported: 1\n",
      "Warning: apt-key output should not be parsed (stdout is not a terminal)\n"
     ]
    }
   ],
   "source": [
    "# Install a Drive FUSE wrapper.\n",
    "# https://github.com/astrada/google-drive-ocamlfuse\n",
    "!apt-get update -qq 2>&1 > /dev/null\n",
    "!apt-get install -y -qq software-properties-common python-software-properties module-init-tools\n",
    "!add-apt-repository -y ppa:alessandro-strada/ppa 2>&1 > /dev/null\n",
    "!apt-get update -qq 2>&1 > /dev/null\n",
    "!apt-get -y install -qq google-drive-ocamlfuse fuse"
   ]
  },
  {
   "cell_type": "code",
   "execution_count": null,
   "metadata": {
    "colab": {
     "autoexec": {
      "startup": false,
      "wait_interval": 0
     }
    },
    "colab_type": "code",
    "id": "Srcg8WAmjhK5"
   },
   "outputs": [],
   "source": [
    "# Generate auth tokens for Colab\n",
    "from google.colab import auth\n",
    "auth.authenticate_user()"
   ]
  },
  {
   "cell_type": "code",
   "execution_count": null,
   "metadata": {
    "colab": {
     "autoexec": {
      "startup": false,
      "wait_interval": 0
     }
    },
    "colab_type": "code",
    "id": "XXssIk27jmP-"
   },
   "outputs": [],
   "source": []
  }
 ],
 "metadata": {
  "accelerator": "GPU",
  "colab": {
   "collapsed_sections": [],
   "default_view": {},
   "name": "power_plant_large_images_masked.ipynb",
   "provenance": [
    {
     "file_id": "17PsNwEIaBpijlZ6v5GS81_iyTy7dTtBr",
     "timestamp": 1528243456466
    },
    {
     "file_id": "1VSA2c9JS8whOeT54O-nAhEsqU-BAazyS",
     "timestamp": 1528243331133
    }
   ],
   "version": "0.3.2",
   "views": {}
  },
  "kernelspec": {
   "display_name": "Python 3",
   "language": "python",
   "name": "python3"
  },
  "language_info": {
   "codemirror_mode": {
    "name": "ipython",
    "version": 3
   },
   "file_extension": ".py",
   "mimetype": "text/x-python",
   "name": "python",
   "nbconvert_exporter": "python",
   "pygments_lexer": "ipython3",
   "version": "3.6.4"
  }
 },
 "nbformat": 4,
 "nbformat_minor": 2
}
